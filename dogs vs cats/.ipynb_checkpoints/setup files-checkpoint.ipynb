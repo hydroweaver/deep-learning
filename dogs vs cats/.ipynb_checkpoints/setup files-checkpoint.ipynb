{
 "cells": [
  {
   "cell_type": "code",
   "execution_count": 2,
   "metadata": {
    "collapsed": true
   },
   "outputs": [],
   "source": [
    "import os, shutil\n",
    "import PIL\n",
    "\n",
    "original_dataset_dir = 'C:/Users/Hydro/Downloads/dogs-vs-cats/train'\n",
    "\n",
    "base_dir = 'C:/Users/Hydro/Downloads/dogs-vs-cats-small'\n",
    "\n",
    "train_dir = os.path.join(base_dir, 'train')\n",
    "validation_dir = os.path.join(base_dir, 'validation')\n",
    "test_dir = os.path.join(base_dir, 'test')\n",
    "train_cats_dir = os.path.join(train_dir, 'cats')\n",
    "train_dogs_dir = os.path.join(train_dir, 'dogs')\n",
    "validation_cats_dir = os.path.join(validation_dir, 'cats')\n",
    "validation_dogs_dir = os.path.join(validation_dir, 'dogs')\n",
    "test_cats_dir = os.path.join(test_dir, 'cats')\n",
    "test_dogs_dir = os.path.join(test_dir, 'dogs')"
   ]
  },
  {
   "cell_type": "code",
   "execution_count": 7,
   "metadata": {
    "collapsed": true
   },
   "outputs": [],
   "source": [
    "os.mkdir(base_dir)\n",
    "os.mkdir(train_dir)\n",
    "os.mkdir(validation_dir)\n",
    "os.mkdir(test_dir)\n",
    "os.mkdir(train_cats_dir)\n",
    "os.mkdir(train_dogs_dir)\n",
    "os.mkdir(validation_cats_dir)\n",
    "os.mkdir(validation_dogs_dir)\n",
    "os.mkdir(test_cats_dir)\n",
    "os.mkdir(test_dogs_dir)"
   ]
  },
  {
   "cell_type": "code",
   "execution_count": 8,
   "metadata": {
    "collapsed": true
   },
   "outputs": [],
   "source": [
    "#original cats to train cats\n",
    "fnames = ['cat.{}.jpg'.format(i) for i in range(1000)]\n",
    "for fname in fnames:\n",
    "    src = os.path.join(original_dataset_dir, fname)\n",
    "    dst = os.path.join(train_cats_dir, fname)\n",
    "    shutil.copyfile(src, dst)\n",
    "    \n",
    "#original cats to validation cats\n",
    "fnames = ['cat.{}.jpg'.format(i) for i in range(1000, 1500)]\n",
    "for fname in fnames:\n",
    "    src = os.path.join(original_dataset_dir, fname)\n",
    "    dst = os.path.join(validation_cats_dir, fname)\n",
    "    shutil.copyfile(src, dst)\n",
    "    \n",
    "#original cats to test cats\n",
    "fnames = ['cat.{}.jpg'.format(i) for i in range(1500, 2000)]\n",
    "for fname in fnames:\n",
    "    src = os.path.join(original_dataset_dir, fname)\n",
    "    dst = os.path.join(test_cats_dir, fname)\n",
    "    shutil.copyfile(src, dst)"
   ]
  },
  {
   "cell_type": "code",
   "execution_count": 9,
   "metadata": {
    "collapsed": true
   },
   "outputs": [],
   "source": [
    "#original dogs to train dogs\n",
    "fnames = ['dog.{}.jpg'.format(i) for i in range(1000)]\n",
    "for fname in fnames:\n",
    "    src = os.path.join(original_dataset_dir, fname)\n",
    "    dst = os.path.join(train_dogs_dir, fname)\n",
    "    shutil.copyfile(src, dst)\n",
    "    \n",
    "#original dogs to validation dogs\n",
    "fnames = ['dog.{}.jpg'.format(i) for i in range(1000, 1500)]\n",
    "for fname in fnames:\n",
    "    src = os.path.join(original_dataset_dir, fname)\n",
    "    dst = os.path.join(validation_dogs_dir, fname)\n",
    "    shutil.copyfile(src, dst)\n",
    "    \n",
    "#original dogs to test dogs\n",
    "fnames = ['dog.{}.jpg'.format(i) for i in range(1500, 2000)]\n",
    "for fname in fnames:\n",
    "    src = os.path.join(original_dataset_dir, fname)\n",
    "    dst = os.path.join(test_dogs_dir, fname)\n",
    "    shutil.copyfile(src, dst)"
   ]
  },
  {
   "cell_type": "code",
   "execution_count": 10,
   "metadata": {
    "collapsed": true
   },
   "outputs": [
    {
     "name": "stdout",
     "output_type": "stream",
     "text": [
      "total training cat images:  1000\n",
      "total validation cat images:  500\n",
      "total test cat images:  500\n",
      "\n",
      "\n",
      "total training dog images:  1000\n",
      "total validation dog images:  500\n",
      "total test dog images:  500\n"
     ]
    }
   ],
   "source": [
    "print('total training cat images: ', len(os.listdir(train_cats_dir)))\n",
    "print('total validation cat images: ', len(os.listdir(validation_cats_dir)))\n",
    "print('total test cat images: ', len(os.listdir(test_cats_dir)))\n",
    "print(\"\\n\")\n",
    "print('total training dog images: ', len(os.listdir(train_dogs_dir)))\n",
    "print('total validation dog images: ', len(os.listdir(validation_dogs_dir)))\n",
    "print('total test dog images: ', len(os.listdir(test_dogs_dir)))"
   ]
  },
  {
   "cell_type": "code",
   "execution_count": 48,
   "metadata": {},
   "outputs": [
    {
     "name": "stdout",
     "output_type": "stream",
     "text": [
      "Found 2000 images belonging to 2 classes.\n",
      "Found 1000 images belonging to 2 classes.\n"
     ]
    }
   ],
   "source": [
    "%config IPCompleter.greedy=True\n",
    "\n",
    "from keras import layers\n",
    "from keras import models\n",
    "from keras import optimizers\n",
    "from keras.preprocessing.image import ImageDataGenerator\n",
    "\n",
    "model = models.Sequential()\n",
    "model.add(layers.Conv2D(32, (3, 3), activation = 'relu', input_shape=(150, 150, 3)))\n",
    "model.add(layers.MaxPool2D(2, 2))\n",
    "model.add(layers.Conv2D(64, (3, 3), activation = 'relu'))\n",
    "model.add(layers.MaxPool2D(2, 2))\n",
    "model.add(layers.Conv2D(128, (3, 3), activation = 'relu'))\n",
    "model.add(layers.MaxPool2D(2, 2))\n",
    "model.add(layers.Conv2D(128, (3, 3), activation = 'relu'))\n",
    "model.add(layers.MaxPool2D(2, 2))\n",
    "model.add(layers.Flatten())\n",
    "model.add(layers.Dense(512, activation = 'relu'))\n",
    "model.add(layers.Dense(1, activation = 'sigmoid'))\n",
    "\n",
    "model.compile(loss='binary_crossentropy',\n",
    "             optimizer = optimizers.RMSprop(lr=1e-4),\n",
    "             metrics=['acc'])\n",
    "\n",
    "\n",
    "train_datagen = ImageDataGenerator(rescale=1./255)\n",
    "test_datagen = ImageDataGenerator(rescale=1./255)\n",
    "\n",
    "train_generator = train_datagen.flow_from_directory(\n",
    "            train_dir,\n",
    "            target_size=(150, 150),\n",
    "            batch_size = 20,\n",
    "            class_mode = 'binary')\n",
    "\n",
    "validation_generator = test_datagen.flow_from_directory(\n",
    "            validation_dir,\n",
    "            target_size=(150, 150),\n",
    "            batch_size = 20,\n",
    "            class_mode='binary')"
   ]
  },
  {
   "cell_type": "code",
   "execution_count": 41,
   "metadata": {},
   "outputs": [
    {
     "name": "stdout",
     "output_type": "stream",
     "text": [
      "(20, 150, 150, 3) (20,)\n"
     ]
    }
   ],
   "source": [
    "for data_batch, labels_batch in validation_generator:\n",
    "    print(data_batch.shape, labels_batch.shape)\n",
    "    break"
   ]
  },
  {
   "cell_type": "code",
   "execution_count": 49,
   "metadata": {},
   "outputs": [
    {
     "name": "stdout",
     "output_type": "stream",
     "text": [
      "Epoch 1/30\n",
      "100/100 [==============================] - 47s 475ms/step - loss: 0.6883 - acc: 0.5520 - val_loss: 0.6851 - val_acc: 0.5400\n",
      "Epoch 2/30\n",
      "100/100 [==============================] - 51s 505ms/step - loss: 0.6543 - acc: 0.6180 - val_loss: 0.6374 - val_acc: 0.6500\n",
      "Epoch 3/30\n",
      "100/100 [==============================] - 51s 507ms/step - loss: 0.6136 - acc: 0.6665 - val_loss: 0.6376 - val_acc: 0.6340\n",
      "Epoch 4/30\n",
      "100/100 [==============================] - 51s 511ms/step - loss: 0.5706 - acc: 0.7050 - val_loss: 0.6896 - val_acc: 0.6130\n",
      "Epoch 5/30\n",
      "100/100 [==============================] - 51s 509ms/step - loss: 0.5310 - acc: 0.7390 - val_loss: 0.5786 - val_acc: 0.6850\n",
      "Epoch 6/30\n",
      "100/100 [==============================] - 51s 514ms/step - loss: 0.5035 - acc: 0.7645 - val_loss: 0.7265 - val_acc: 0.6010\n",
      "Epoch 7/30\n",
      "100/100 [==============================] - 120s 1s/step - loss: 0.4872 - acc: 0.7650 - val_loss: 0.5629 - val_acc: 0.7040\n",
      "Epoch 8/30\n",
      "100/100 [==============================] - 51s 509ms/step - loss: 0.4541 - acc: 0.7910 - val_loss: 0.5768 - val_acc: 0.7150\n",
      "Epoch 9/30\n",
      "100/100 [==============================] - 52s 521ms/step - loss: 0.4394 - acc: 0.8030 - val_loss: 0.6226 - val_acc: 0.6950\n",
      "Epoch 10/30\n",
      "100/100 [==============================] - 55s 555ms/step - loss: 0.4112 - acc: 0.8140 - val_loss: 0.5920 - val_acc: 0.7000\n",
      "Epoch 11/30\n",
      "100/100 [==============================] - 55s 553ms/step - loss: 0.3883 - acc: 0.8310 - val_loss: 0.5317 - val_acc: 0.7240\n",
      "Epoch 12/30\n",
      "100/100 [==============================] - 54s 535ms/step - loss: 0.3762 - acc: 0.8360 - val_loss: 0.6538 - val_acc: 0.6900\n",
      "Epoch 13/30\n",
      "100/100 [==============================] - 51s 515ms/step - loss: 0.3476 - acc: 0.8525 - val_loss: 0.6173 - val_acc: 0.6980\n",
      "Epoch 14/30\n",
      "100/100 [==============================] - 52s 521ms/step - loss: 0.3270 - acc: 0.8570 - val_loss: 0.5429 - val_acc: 0.7370\n",
      "Epoch 15/30\n",
      "100/100 [==============================] - 52s 516ms/step - loss: 0.3054 - acc: 0.8705 - val_loss: 0.5747 - val_acc: 0.7250\n",
      "Epoch 16/30\n",
      "100/100 [==============================] - 52s 520ms/step - loss: 0.2854 - acc: 0.8800 - val_loss: 0.5965 - val_acc: 0.7330\n",
      "Epoch 17/30\n",
      "100/100 [==============================] - 52s 520ms/step - loss: 0.2667 - acc: 0.8945 - val_loss: 0.5816 - val_acc: 0.7330\n",
      "Epoch 18/30\n",
      "100/100 [==============================] - 61s 614ms/step - loss: 0.2488 - acc: 0.8920 - val_loss: 0.6382 - val_acc: 0.7340\n",
      "Epoch 19/30\n",
      "100/100 [==============================] - 58s 585ms/step - loss: 0.2159 - acc: 0.9175 - val_loss: 0.8191 - val_acc: 0.6990\n",
      "Epoch 20/30\n",
      "100/100 [==============================] - 52s 518ms/step - loss: 0.2075 - acc: 0.9180 - val_loss: 0.6583 - val_acc: 0.7270\n",
      "Epoch 21/30\n",
      "100/100 [==============================] - 52s 517ms/step - loss: 0.1812 - acc: 0.9280 - val_loss: 0.6203 - val_acc: 0.7380\n",
      "Epoch 22/30\n",
      "100/100 [==============================] - 52s 516ms/step - loss: 0.1706 - acc: 0.9325 - val_loss: 0.6553 - val_acc: 0.7390\n",
      "Epoch 23/30\n",
      "100/100 [==============================] - 52s 516ms/step - loss: 0.1487 - acc: 0.9490 - val_loss: 0.6994 - val_acc: 0.7340\n",
      "Epoch 24/30\n",
      "100/100 [==============================] - 52s 518ms/step - loss: 0.1302 - acc: 0.9550 - val_loss: 0.9007 - val_acc: 0.7120\n",
      "Epoch 25/30\n",
      "100/100 [==============================] - 52s 524ms/step - loss: 0.1241 - acc: 0.9565 - val_loss: 0.6788 - val_acc: 0.7460\n",
      "Epoch 26/30\n",
      "100/100 [==============================] - 53s 527ms/step - loss: 0.0972 - acc: 0.9720 - val_loss: 0.7865 - val_acc: 0.7340\n",
      "Epoch 27/30\n",
      "100/100 [==============================] - 52s 517ms/step - loss: 0.0848 - acc: 0.9775 - val_loss: 0.7531 - val_acc: 0.7370\n",
      "Epoch 28/30\n",
      "100/100 [==============================] - 52s 521ms/step - loss: 0.0862 - acc: 0.9710 - val_loss: 0.7999 - val_acc: 0.7390\n",
      "Epoch 29/30\n",
      "100/100 [==============================] - 52s 518ms/step - loss: 0.0612 - acc: 0.9835 - val_loss: 0.8730 - val_acc: 0.7390\n",
      "Epoch 30/30\n",
      "100/100 [==============================] - 52s 518ms/step - loss: 0.0570 - acc: 0.9860 - val_loss: 0.8974 - val_acc: 0.7490\n"
     ]
    }
   ],
   "source": [
    "# fit model with generators, so we use fit generator, which in turn uses validation generator function.\n",
    "#Both are generators so will loop endlessly, so we use the steps flag for both generators\n",
    "\n",
    "history = model.fit_generator(train_generator,\n",
    "                           steps_per_epoch = 100,\n",
    "                           epochs = 30,\n",
    "                           validation_data = validation_generator,\n",
    "                           validation_steps = 50)\n",
    "\n",
    "\n",
    "save_dir = r'C:\\Users\\hydro\\Documents\\GitHub\\deep-learning\\dogs vs cats'\n",
    "model.save('{}\\cats_and_dogs_small_1.h5'.format(save_dir))"
   ]
  },
  {
   "cell_type": "code",
   "execution_count": 57,
   "metadata": {},
   "outputs": [
    {
     "data": {
      "image/png": "[encoded data removed]",
      "text/plain": [
       "<Figure size 432x288 with 1 Axes>"
      ]
     },
     "metadata": {
      "needs_background": "light"
     },
     "output_type": "display_data"
    },
    {
     "data": {
      "image/png": "[encoded data removed]",
      "text/plain": [
       "<Figure size 432x288 with 1 Axes>"
      ]
     },
     "metadata": {
      "needs_background": "light"
     },
     "output_type": "display_data"
    }
   ],
   "source": [
    "import matplotlib.pyplot as plt\n",
    "\n",
    "acc = history.history['acc']\n",
    "loss = history.history['loss']\n",
    "val_acc = history.history['val_acc']\n",
    "val_loss = history.history['val_loss']\n",
    "\n",
    "\n",
    "epochs = range(1, len(acc) + 1)\n",
    "\n",
    "plt.plot(epochs, acc, 'bo', label = 'Training Accuracy')\n",
    "plt.plot(epochs, val_acc, 'b', label = 'Validation Accuracy')\n",
    "plt.xlabel('Epochs')\n",
    "plt.ylabel('Accuracy')\n",
    "plt.figure()\n",
    "\n",
    "plt.plot(epochs, loss, 'bo', label = 'Training Loss')\n",
    "plt.plot(epochs, val_loss, 'b', label = 'Validation Loss')\n",
    "plt.xlabel('Epochs')\n",
    "plt.ylabel('Loss')\n",
    "plt.legend()\n",
    "plt.show()"
   ]
  }
 ],
 "metadata": {
  "kernelspec": {
   "display_name": "Python 3",
   "language": "python",
   "name": "python3"
  },
  "language_info": {
   "codemirror_mode": {
    "name": "ipython",
    "version": 3
   },
   "file_extension": ".py",
   "mimetype": "text/x-python",
   "name": "python",
   "nbconvert_exporter": "python",
   "pygments_lexer": "ipython3",
   "version": "3.6.8"
  }
 },
 "nbformat": 4,
 "nbformat_minor": 2
}
